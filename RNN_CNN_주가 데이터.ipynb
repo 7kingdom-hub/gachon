{
 "cells": [
  {
   "cell_type": "code",
   "execution_count": 1,
   "id": "f62e080b",
   "metadata": {},
   "outputs": [
    {
     "name": "stdout",
     "output_type": "stream",
     "text": [
      "Requirement already satisfied: yfinance in c:\\users\\7kingdom\\anaconda3\\lib\\site-packages (0.2.31)\n",
      "Requirement already satisfied: pandas>=1.3.0 in c:\\users\\7kingdom\\anaconda3\\lib\\site-packages (from yfinance) (1.4.4)\n",
      "Requirement already satisfied: frozendict>=2.3.4 in c:\\users\\7kingdom\\anaconda3\\lib\\site-packages (from yfinance) (2.3.8)\n",
      "Requirement already satisfied: peewee>=3.16.2 in c:\\users\\7kingdom\\anaconda3\\lib\\site-packages (from yfinance) (3.17.0)\n",
      "Requirement already satisfied: lxml>=4.9.1 in c:\\users\\7kingdom\\anaconda3\\lib\\site-packages (from yfinance) (4.9.1)\n",
      "Requirement already satisfied: html5lib>=1.1 in c:\\users\\7kingdom\\anaconda3\\lib\\site-packages (from yfinance) (1.1)\n",
      "Requirement already satisfied: appdirs>=1.4.4 in c:\\users\\7kingdom\\anaconda3\\lib\\site-packages (from yfinance) (1.4.4)\n",
      "Requirement already satisfied: pytz>=2022.5 in c:\\users\\7kingdom\\anaconda3\\lib\\site-packages (from yfinance) (2023.3.post1)\n",
      "Requirement already satisfied: requests>=2.31 in c:\\users\\7kingdom\\anaconda3\\lib\\site-packages (from yfinance) (2.31.0)\n",
      "Requirement already satisfied: numpy>=1.16.5 in c:\\users\\7kingdom\\anaconda3\\lib\\site-packages (from yfinance) (1.24.3)\n",
      "Requirement already satisfied: beautifulsoup4>=4.11.1 in c:\\users\\7kingdom\\anaconda3\\lib\\site-packages (from yfinance) (4.11.1)\n",
      "Requirement already satisfied: multitasking>=0.0.7 in c:\\users\\7kingdom\\anaconda3\\lib\\site-packages (from yfinance) (0.0.11)\n",
      "Requirement already satisfied: soupsieve>1.2 in c:\\users\\7kingdom\\anaconda3\\lib\\site-packages (from beautifulsoup4>=4.11.1->yfinance) (2.3.1)\n",
      "Requirement already satisfied: six>=1.9 in c:\\users\\7kingdom\\anaconda3\\lib\\site-packages (from html5lib>=1.1->yfinance) (1.16.0)\n",
      "Requirement already satisfied: webencodings in c:\\users\\7kingdom\\anaconda3\\lib\\site-packages (from html5lib>=1.1->yfinance) (0.5.1)\n",
      "Requirement already satisfied: python-dateutil>=2.8.1 in c:\\users\\7kingdom\\anaconda3\\lib\\site-packages (from pandas>=1.3.0->yfinance) (2.8.2)\n",
      "Requirement already satisfied: charset-normalizer<4,>=2 in c:\\users\\7kingdom\\anaconda3\\lib\\site-packages (from requests>=2.31->yfinance) (2.0.4)\n",
      "Requirement already satisfied: idna<4,>=2.5 in c:\\users\\7kingdom\\anaconda3\\lib\\site-packages (from requests>=2.31->yfinance) (3.3)\n",
      "Requirement already satisfied: urllib3<3,>=1.21.1 in c:\\users\\7kingdom\\anaconda3\\lib\\site-packages (from requests>=2.31->yfinance) (1.26.11)\n",
      "Requirement already satisfied: certifi>=2017.4.17 in c:\\users\\7kingdom\\anaconda3\\lib\\site-packages (from requests>=2.31->yfinance) (2022.9.14)\n"
     ]
    }
   ],
   "source": [
    "!pip install yfinance"
   ]
  },
  {
   "cell_type": "code",
   "execution_count": 2,
   "id": "8b796e95",
   "metadata": {},
   "outputs": [],
   "source": [
    "#import yfinance as yf\n",
    "#df = yf.download('005930.KS','2021-06-03','2022-06-03')\n",
    "#df.to_excel(\"삼성전자.xlsx\")\n",
    "#사이버캠퍼스로 대체"
   ]
  },
  {
   "cell_type": "code",
   "execution_count": 3,
   "id": "b293d198",
   "metadata": {},
   "outputs": [],
   "source": [
    "import numpy as np\n",
    "import pandas as pd\n",
    "import matplotlib.pyplot as plt"
   ]
  },
  {
   "cell_type": "code",
   "execution_count": 4,
   "id": "c1841b4f",
   "metadata": {},
   "outputs": [],
   "source": [
    "import pandas as pd\n",
    "\n",
    "# Excel 파일을 pandas DataFrame으로 읽어옵니다.\n",
    "data = pd.read_csv('C:/Users/7kingdom/Downloads/train.csv')\n",
    "\n"
   ]
  },
  {
   "cell_type": "code",
   "execution_count": 5,
   "id": "3162032e",
   "metadata": {},
   "outputs": [
    {
     "data": {
      "text/plain": [
       "Index(['일자', '종목코드', '종목명', '거래량', '시가', '고가', '저가', '종가'], dtype='object')"
      ]
     },
     "execution_count": 5,
     "metadata": {},
     "output_type": "execute_result"
    }
   ],
   "source": [
    "data.columns"
   ]
  },
  {
   "cell_type": "code",
   "execution_count": 6,
   "id": "83753b0a",
   "metadata": {},
   "outputs": [
    {
     "data": {
      "text/plain": [
       "0         A060310\n",
       "1         A095570\n",
       "2         A006840\n",
       "3         A054620\n",
       "4         A265520\n",
       "           ...   \n",
       "987995    A189980\n",
       "987996    A000540\n",
       "987997    A003280\n",
       "987998    A037440\n",
       "987999    A238490\n",
       "Name: 종목코드, Length: 988000, dtype: object"
      ]
     },
     "execution_count": 6,
     "metadata": {},
     "output_type": "execute_result"
    }
   ],
   "source": [
    "data['종목코드']"
   ]
  },
  {
   "cell_type": "code",
   "execution_count": 7,
   "id": "7b36a010",
   "metadata": {},
   "outputs": [
    {
     "data": {
      "text/html": [
       "<div>\n",
       "<style scoped>\n",
       "    .dataframe tbody tr th:only-of-type {\n",
       "        vertical-align: middle;\n",
       "    }\n",
       "\n",
       "    .dataframe tbody tr th {\n",
       "        vertical-align: top;\n",
       "    }\n",
       "\n",
       "    .dataframe thead th {\n",
       "        text-align: right;\n",
       "    }\n",
       "</style>\n",
       "<table border=\"1\" class=\"dataframe\">\n",
       "  <thead>\n",
       "    <tr style=\"text-align: right;\">\n",
       "      <th></th>\n",
       "      <th>일자</th>\n",
       "      <th>종목코드</th>\n",
       "      <th>종목명</th>\n",
       "      <th>거래량</th>\n",
       "      <th>시가</th>\n",
       "      <th>고가</th>\n",
       "      <th>저가</th>\n",
       "      <th>종가</th>\n",
       "    </tr>\n",
       "  </thead>\n",
       "  <tbody>\n",
       "    <tr>\n",
       "      <th>2</th>\n",
       "      <td>20210601</td>\n",
       "      <td>A006840</td>\n",
       "      <td>AK홀딩스</td>\n",
       "      <td>103691</td>\n",
       "      <td>35500</td>\n",
       "      <td>35600</td>\n",
       "      <td>34150</td>\n",
       "      <td>34400</td>\n",
       "    </tr>\n",
       "    <tr>\n",
       "      <th>2002</th>\n",
       "      <td>20210602</td>\n",
       "      <td>A006840</td>\n",
       "      <td>AK홀딩스</td>\n",
       "      <td>197787</td>\n",
       "      <td>34400</td>\n",
       "      <td>36650</td>\n",
       "      <td>34300</td>\n",
       "      <td>36450</td>\n",
       "    </tr>\n",
       "    <tr>\n",
       "      <th>4002</th>\n",
       "      <td>20210603</td>\n",
       "      <td>A006840</td>\n",
       "      <td>AK홀딩스</td>\n",
       "      <td>115028</td>\n",
       "      <td>36950</td>\n",
       "      <td>38050</td>\n",
       "      <td>36300</td>\n",
       "      <td>36300</td>\n",
       "    </tr>\n",
       "    <tr>\n",
       "      <th>6002</th>\n",
       "      <td>20210604</td>\n",
       "      <td>A006840</td>\n",
       "      <td>AK홀딩스</td>\n",
       "      <td>67125</td>\n",
       "      <td>36350</td>\n",
       "      <td>36500</td>\n",
       "      <td>35550</td>\n",
       "      <td>35900</td>\n",
       "    </tr>\n",
       "    <tr>\n",
       "      <th>8002</th>\n",
       "      <td>20210607</td>\n",
       "      <td>A006840</td>\n",
       "      <td>AK홀딩스</td>\n",
       "      <td>105486</td>\n",
       "      <td>35900</td>\n",
       "      <td>35900</td>\n",
       "      <td>34500</td>\n",
       "      <td>34800</td>\n",
       "    </tr>\n",
       "    <tr>\n",
       "      <th>...</th>\n",
       "      <td>...</td>\n",
       "      <td>...</td>\n",
       "      <td>...</td>\n",
       "      <td>...</td>\n",
       "      <td>...</td>\n",
       "      <td>...</td>\n",
       "      <td>...</td>\n",
       "      <td>...</td>\n",
       "    </tr>\n",
       "    <tr>\n",
       "      <th>978002</th>\n",
       "      <td>20230523</td>\n",
       "      <td>A006840</td>\n",
       "      <td>AK홀딩스</td>\n",
       "      <td>6741</td>\n",
       "      <td>20150</td>\n",
       "      <td>20300</td>\n",
       "      <td>19900</td>\n",
       "      <td>20000</td>\n",
       "    </tr>\n",
       "    <tr>\n",
       "      <th>980002</th>\n",
       "      <td>20230524</td>\n",
       "      <td>A006840</td>\n",
       "      <td>AK홀딩스</td>\n",
       "      <td>3288</td>\n",
       "      <td>20000</td>\n",
       "      <td>20350</td>\n",
       "      <td>19900</td>\n",
       "      <td>19970</td>\n",
       "    </tr>\n",
       "    <tr>\n",
       "      <th>982002</th>\n",
       "      <td>20230525</td>\n",
       "      <td>A006840</td>\n",
       "      <td>AK홀딩스</td>\n",
       "      <td>14341</td>\n",
       "      <td>19930</td>\n",
       "      <td>20050</td>\n",
       "      <td>19400</td>\n",
       "      <td>19650</td>\n",
       "    </tr>\n",
       "    <tr>\n",
       "      <th>984002</th>\n",
       "      <td>20230526</td>\n",
       "      <td>A006840</td>\n",
       "      <td>AK홀딩스</td>\n",
       "      <td>6583</td>\n",
       "      <td>19650</td>\n",
       "      <td>19790</td>\n",
       "      <td>19410</td>\n",
       "      <td>19410</td>\n",
       "    </tr>\n",
       "    <tr>\n",
       "      <th>986002</th>\n",
       "      <td>20230530</td>\n",
       "      <td>A006840</td>\n",
       "      <td>AK홀딩스</td>\n",
       "      <td>13442</td>\n",
       "      <td>19410</td>\n",
       "      <td>19450</td>\n",
       "      <td>18900</td>\n",
       "      <td>19020</td>\n",
       "    </tr>\n",
       "  </tbody>\n",
       "</table>\n",
       "<p>494 rows × 8 columns</p>\n",
       "</div>"
      ],
      "text/plain": [
       "              일자     종목코드    종목명     거래량     시가     고가     저가     종가\n",
       "2       20210601  A006840  AK홀딩스  103691  35500  35600  34150  34400\n",
       "2002    20210602  A006840  AK홀딩스  197787  34400  36650  34300  36450\n",
       "4002    20210603  A006840  AK홀딩스  115028  36950  38050  36300  36300\n",
       "6002    20210604  A006840  AK홀딩스   67125  36350  36500  35550  35900\n",
       "8002    20210607  A006840  AK홀딩스  105486  35900  35900  34500  34800\n",
       "...          ...      ...    ...     ...    ...    ...    ...    ...\n",
       "978002  20230523  A006840  AK홀딩스    6741  20150  20300  19900  20000\n",
       "980002  20230524  A006840  AK홀딩스    3288  20000  20350  19900  19970\n",
       "982002  20230525  A006840  AK홀딩스   14341  19930  20050  19400  19650\n",
       "984002  20230526  A006840  AK홀딩스    6583  19650  19790  19410  19410\n",
       "986002  20230530  A006840  AK홀딩스   13442  19410  19450  18900  19020\n",
       "\n",
       "[494 rows x 8 columns]"
      ]
     },
     "execution_count": 7,
     "metadata": {},
     "output_type": "execute_result"
    }
   ],
   "source": [
    "df = data[data['종목코드'] == 'A006840']\n",
    "\n",
    "df"
   ]
  },
  {
   "cell_type": "code",
   "execution_count": 8,
   "id": "ac99ba2a",
   "metadata": {},
   "outputs": [
    {
     "data": {
      "text/plain": [
       "(494, 8)"
      ]
     },
     "execution_count": 8,
     "metadata": {},
     "output_type": "execute_result"
    }
   ],
   "source": [
    "df.shape"
   ]
  },
  {
   "cell_type": "code",
   "execution_count": 9,
   "id": "307228da",
   "metadata": {},
   "outputs": [],
   "source": [
    "def MinMaxScaler(data):\n",
    "    numerator = data - np.min(data, 0)\n",
    "    denominator = np.max(data, 0) - np.min(data, 0)\n",
    "\n",
    "    return numerator / (denominator + 1e-7)"
   ]
  },
  {
   "cell_type": "code",
   "execution_count": 10,
   "id": "f2c4f128",
   "metadata": {},
   "outputs": [
    {
     "data": {
      "text/html": [
       "<div>\n",
       "<style scoped>\n",
       "    .dataframe tbody tr th:only-of-type {\n",
       "        vertical-align: middle;\n",
       "    }\n",
       "\n",
       "    .dataframe tbody tr th {\n",
       "        vertical-align: top;\n",
       "    }\n",
       "\n",
       "    .dataframe thead th {\n",
       "        text-align: right;\n",
       "    }\n",
       "</style>\n",
       "<table border=\"1\" class=\"dataframe\">\n",
       "  <thead>\n",
       "    <tr style=\"text-align: right;\">\n",
       "      <th></th>\n",
       "      <th>시가</th>\n",
       "      <th>고가</th>\n",
       "      <th>저가</th>\n",
       "    </tr>\n",
       "  </thead>\n",
       "  <tbody>\n",
       "    <tr>\n",
       "      <th>2</th>\n",
       "      <td>0.943580</td>\n",
       "      <td>0.908068</td>\n",
       "      <td>0.914683</td>\n",
       "    </tr>\n",
       "    <tr>\n",
       "      <th>2002</th>\n",
       "      <td>0.900778</td>\n",
       "      <td>0.947467</td>\n",
       "      <td>0.920635</td>\n",
       "    </tr>\n",
       "    <tr>\n",
       "      <th>4002</th>\n",
       "      <td>1.000000</td>\n",
       "      <td>1.000000</td>\n",
       "      <td>1.000000</td>\n",
       "    </tr>\n",
       "    <tr>\n",
       "      <th>6002</th>\n",
       "      <td>0.976654</td>\n",
       "      <td>0.941839</td>\n",
       "      <td>0.970238</td>\n",
       "    </tr>\n",
       "    <tr>\n",
       "      <th>8002</th>\n",
       "      <td>0.959144</td>\n",
       "      <td>0.919325</td>\n",
       "      <td>0.928571</td>\n",
       "    </tr>\n",
       "    <tr>\n",
       "      <th>...</th>\n",
       "      <td>...</td>\n",
       "      <td>...</td>\n",
       "      <td>...</td>\n",
       "    </tr>\n",
       "    <tr>\n",
       "      <th>978002</th>\n",
       "      <td>0.346304</td>\n",
       "      <td>0.333959</td>\n",
       "      <td>0.349206</td>\n",
       "    </tr>\n",
       "    <tr>\n",
       "      <th>980002</th>\n",
       "      <td>0.340467</td>\n",
       "      <td>0.335835</td>\n",
       "      <td>0.349206</td>\n",
       "    </tr>\n",
       "    <tr>\n",
       "      <th>982002</th>\n",
       "      <td>0.337743</td>\n",
       "      <td>0.324578</td>\n",
       "      <td>0.329365</td>\n",
       "    </tr>\n",
       "    <tr>\n",
       "      <th>984002</th>\n",
       "      <td>0.326848</td>\n",
       "      <td>0.314822</td>\n",
       "      <td>0.329762</td>\n",
       "    </tr>\n",
       "    <tr>\n",
       "      <th>986002</th>\n",
       "      <td>0.317510</td>\n",
       "      <td>0.302064</td>\n",
       "      <td>0.309524</td>\n",
       "    </tr>\n",
       "  </tbody>\n",
       "</table>\n",
       "<p>494 rows × 3 columns</p>\n",
       "</div>"
      ],
      "text/plain": [
       "              시가        고가        저가\n",
       "2       0.943580  0.908068  0.914683\n",
       "2002    0.900778  0.947467  0.920635\n",
       "4002    1.000000  1.000000  1.000000\n",
       "6002    0.976654  0.941839  0.970238\n",
       "8002    0.959144  0.919325  0.928571\n",
       "...          ...       ...       ...\n",
       "978002  0.346304  0.333959  0.349206\n",
       "980002  0.340467  0.335835  0.349206\n",
       "982002  0.337743  0.324578  0.329365\n",
       "984002  0.326848  0.314822  0.329762\n",
       "986002  0.317510  0.302064  0.309524\n",
       "\n",
       "[494 rows x 3 columns]"
      ]
     },
     "execution_count": 10,
     "metadata": {},
     "output_type": "execute_result"
    }
   ],
   "source": [
    "dfx = df[['시가', '고가', '저가', '종가']]\n",
    "dfx = MinMaxScaler(dfx)\n",
    "\n",
    "dfy = dfx[['종가']]\n",
    "dfx = dfx[['시가', '고가', '저가']]\n",
    "\n",
    "dfx"
   ]
  },
  {
   "cell_type": "code",
   "execution_count": 11,
   "id": "707d7450",
   "metadata": {},
   "outputs": [
    {
     "data": {
      "text/html": [
       "<div>\n",
       "<style scoped>\n",
       "    .dataframe tbody tr th:only-of-type {\n",
       "        vertical-align: middle;\n",
       "    }\n",
       "\n",
       "    .dataframe tbody tr th {\n",
       "        vertical-align: top;\n",
       "    }\n",
       "\n",
       "    .dataframe thead th {\n",
       "        text-align: right;\n",
       "    }\n",
       "</style>\n",
       "<table border=\"1\" class=\"dataframe\">\n",
       "  <thead>\n",
       "    <tr style=\"text-align: right;\">\n",
       "      <th></th>\n",
       "      <th>시가</th>\n",
       "      <th>고가</th>\n",
       "      <th>저가</th>\n",
       "    </tr>\n",
       "  </thead>\n",
       "  <tbody>\n",
       "    <tr>\n",
       "      <th>count</th>\n",
       "      <td>494.000000</td>\n",
       "      <td>494.000000</td>\n",
       "      <td>494.000000</td>\n",
       "    </tr>\n",
       "    <tr>\n",
       "      <th>mean</th>\n",
       "      <td>0.360790</td>\n",
       "      <td>0.354231</td>\n",
       "      <td>0.358357</td>\n",
       "    </tr>\n",
       "    <tr>\n",
       "      <th>std</th>\n",
       "      <td>0.208086</td>\n",
       "      <td>0.201709</td>\n",
       "      <td>0.208193</td>\n",
       "    </tr>\n",
       "    <tr>\n",
       "      <th>min</th>\n",
       "      <td>0.000000</td>\n",
       "      <td>0.000000</td>\n",
       "      <td>0.000000</td>\n",
       "    </tr>\n",
       "    <tr>\n",
       "      <th>25%</th>\n",
       "      <td>0.202821</td>\n",
       "      <td>0.195122</td>\n",
       "      <td>0.198909</td>\n",
       "    </tr>\n",
       "    <tr>\n",
       "      <th>50%</th>\n",
       "      <td>0.320039</td>\n",
       "      <td>0.315009</td>\n",
       "      <td>0.318452</td>\n",
       "    </tr>\n",
       "    <tr>\n",
       "      <th>75%</th>\n",
       "      <td>0.481518</td>\n",
       "      <td>0.475610</td>\n",
       "      <td>0.479663</td>\n",
       "    </tr>\n",
       "    <tr>\n",
       "      <th>max</th>\n",
       "      <td>1.000000</td>\n",
       "      <td>1.000000</td>\n",
       "      <td>1.000000</td>\n",
       "    </tr>\n",
       "  </tbody>\n",
       "</table>\n",
       "</div>"
      ],
      "text/plain": [
       "               시가          고가          저가\n",
       "count  494.000000  494.000000  494.000000\n",
       "mean     0.360790    0.354231    0.358357\n",
       "std      0.208086    0.201709    0.208193\n",
       "min      0.000000    0.000000    0.000000\n",
       "25%      0.202821    0.195122    0.198909\n",
       "50%      0.320039    0.315009    0.318452\n",
       "75%      0.481518    0.475610    0.479663\n",
       "max      1.000000    1.000000    1.000000"
      ]
     },
     "execution_count": 11,
     "metadata": {},
     "output_type": "execute_result"
    }
   ],
   "source": [
    "dfx.describe()"
   ]
  },
  {
   "cell_type": "code",
   "execution_count": 12,
   "id": "fee8be4c",
   "metadata": {},
   "outputs": [
    {
     "data": {
      "text/html": [
       "<div>\n",
       "<style scoped>\n",
       "    .dataframe tbody tr th:only-of-type {\n",
       "        vertical-align: middle;\n",
       "    }\n",
       "\n",
       "    .dataframe tbody tr th {\n",
       "        vertical-align: top;\n",
       "    }\n",
       "\n",
       "    .dataframe thead th {\n",
       "        text-align: right;\n",
       "    }\n",
       "</style>\n",
       "<table border=\"1\" class=\"dataframe\">\n",
       "  <thead>\n",
       "    <tr style=\"text-align: right;\">\n",
       "      <th></th>\n",
       "      <th>종가</th>\n",
       "    </tr>\n",
       "  </thead>\n",
       "  <tbody>\n",
       "    <tr>\n",
       "      <th>2</th>\n",
       "      <td>0.918812</td>\n",
       "    </tr>\n",
       "    <tr>\n",
       "      <th>2002</th>\n",
       "      <td>1.000000</td>\n",
       "    </tr>\n",
       "    <tr>\n",
       "      <th>4002</th>\n",
       "      <td>0.994059</td>\n",
       "    </tr>\n",
       "    <tr>\n",
       "      <th>6002</th>\n",
       "      <td>0.978218</td>\n",
       "    </tr>\n",
       "    <tr>\n",
       "      <th>8002</th>\n",
       "      <td>0.934653</td>\n",
       "    </tr>\n",
       "  </tbody>\n",
       "</table>\n",
       "</div>"
      ],
      "text/plain": [
       "            종가\n",
       "2     0.918812\n",
       "2002  1.000000\n",
       "4002  0.994059\n",
       "6002  0.978218\n",
       "8002  0.934653"
      ]
     },
     "execution_count": 12,
     "metadata": {},
     "output_type": "execute_result"
    }
   ],
   "source": [
    "dfy.head()"
   ]
  },
  {
   "cell_type": "code",
   "execution_count": 13,
   "id": "059331f5",
   "metadata": {},
   "outputs": [],
   "source": [
    "time_step = 10\n",
    "step = 1\n",
    "\n",
    "def create_dataset(X, y, time_step, step):\n",
    "    Xs, ys = [], []\n",
    "\n",
    "    for i in range(0, len(X) - time_step, step):\n",
    "        v = X.iloc[i : (i + time_step)].values\n",
    "        labels = y.iloc[i + time_step]\n",
    "\n",
    "        Xs.append(v)\n",
    "        ys.append(labels)\n",
    "\n",
    "    return np.array(Xs), np.array(ys)"
   ]
  },
  {
   "cell_type": "code",
   "execution_count": 14,
   "id": "6aed3d31",
   "metadata": {},
   "outputs": [
    {
     "data": {
      "text/plain": [
       "(484, 10, 3)"
      ]
     },
     "execution_count": 14,
     "metadata": {},
     "output_type": "execute_result"
    }
   ],
   "source": [
    "X, y = create_dataset(dfx, dfy, time_step, step)\n",
    "\n",
    "X.shape"
   ]
  },
  {
   "cell_type": "code",
   "execution_count": 15,
   "id": "afef3568",
   "metadata": {},
   "outputs": [
    {
     "data": {
      "text/plain": [
       "((324, 10, 3), (160, 10, 3), (324, 1), (160, 1))"
      ]
     },
     "execution_count": 15,
     "metadata": {},
     "output_type": "execute_result"
    }
   ],
   "source": [
    "from sklearn.model_selection import train_test_split\n",
    "\n",
    "X_train, X_test, y_train, y_test = train_test_split(X, y, test_size=0.33, random_state=42, shuffle=False)\n",
    "\n",
    "X_train.shape, X_test.shape, y_train.shape, y_test.shape"
   ]
  },
  {
   "cell_type": "code",
   "execution_count": 16,
   "id": "f2047a4a",
   "metadata": {},
   "outputs": [],
   "source": [
    "from tensorflow.keras.models import Sequential\n",
    "from tensorflow.keras.layers import Dense, SimpleRNN, Dropout"
   ]
  },
  {
   "cell_type": "markdown",
   "id": "2f9c43b1",
   "metadata": {},
   "source": [
    "<h2> RNN <h2>"
   ]
  },
  {
   "cell_type": "code",
   "execution_count": 17,
   "id": "9c545caa",
   "metadata": {},
   "outputs": [
    {
     "name": "stdout",
     "output_type": "stream",
     "text": [
      "Model: \"sequential\"\n",
      "_________________________________________________________________\n",
      " Layer (type)                Output Shape              Param #   \n",
      "=================================================================\n",
      " simple_rnn (SimpleRNN)      (None, 10, 20)            480       \n",
      "                                                                 \n",
      " dropout (Dropout)           (None, 10, 20)            0         \n",
      "                                                                 \n",
      " simple_rnn_1 (SimpleRNN)    (None, 20)                820       \n",
      "                                                                 \n",
      " dropout_1 (Dropout)         (None, 20)                0         \n",
      "                                                                 \n",
      " dense (Dense)               (None, 1)                 21        \n",
      "                                                                 \n",
      "=================================================================\n",
      "Total params: 1321 (5.16 KB)\n",
      "Trainable params: 1321 (5.16 KB)\n",
      "Non-trainable params: 0 (0.00 Byte)\n",
      "_________________________________________________________________\n"
     ]
    }
   ],
   "source": [
    "model = Sequential([\n",
    "    SimpleRNN(20, activation='relu', input_shape=(X.shape[1:]), return_sequences=True),\n",
    "    Dropout(0.5),\n",
    "    SimpleRNN(20, activation='relu'),\n",
    "    Dropout(0.3),\n",
    "    Dense(1)\n",
    "])\n",
    "\n",
    "model.summary()"
   ]
  },
  {
   "cell_type": "code",
   "execution_count": 18,
   "id": "1b34bdba",
   "metadata": {},
   "outputs": [],
   "source": [
    "model.compile(loss='mse', optimizer='adam')"
   ]
  },
  {
   "cell_type": "code",
   "execution_count": 19,
   "id": "26929485",
   "metadata": {
    "scrolled": true
   },
   "outputs": [
    {
     "name": "stdout",
     "output_type": "stream",
     "text": [
      "Epoch 1/50\n",
      "7/7 [==============================] - 2s 68ms/step - loss: 5.5517 - val_loss: 0.3718\n",
      "Epoch 2/50\n",
      "7/7 [==============================] - 0s 17ms/step - loss: 3.0704 - val_loss: 0.1939\n",
      "Epoch 3/50\n",
      "7/7 [==============================] - 0s 17ms/step - loss: 1.4715 - val_loss: 0.1099\n",
      "Epoch 4/50\n",
      "7/7 [==============================] - 0s 17ms/step - loss: 1.3611 - val_loss: 0.0595\n",
      "Epoch 5/50\n",
      "7/7 [==============================] - 0s 17ms/step - loss: 1.0524 - val_loss: 0.0311\n",
      "Epoch 6/50\n",
      "7/7 [==============================] - 0s 14ms/step - loss: 0.7676 - val_loss: 0.0172\n",
      "Epoch 7/50\n",
      "7/7 [==============================] - 0s 17ms/step - loss: 0.5946 - val_loss: 0.0106\n",
      "Epoch 8/50\n",
      "7/7 [==============================] - 0s 14ms/step - loss: 0.4946 - val_loss: 0.0069\n",
      "Epoch 9/50\n",
      "7/7 [==============================] - 0s 14ms/step - loss: 0.4849 - val_loss: 0.0050\n",
      "Epoch 10/50\n",
      "7/7 [==============================] - 0s 14ms/step - loss: 0.3997 - val_loss: 0.0043\n",
      "Epoch 11/50\n",
      "7/7 [==============================] - 0s 15ms/step - loss: 0.3795 - val_loss: 0.0041\n",
      "Epoch 12/50\n",
      "7/7 [==============================] - 0s 14ms/step - loss: 0.3216 - val_loss: 0.0042\n",
      "Epoch 13/50\n",
      "7/7 [==============================] - 0s 14ms/step - loss: 0.3692 - val_loss: 0.0044\n",
      "Epoch 14/50\n",
      "7/7 [==============================] - 0s 15ms/step - loss: 0.2867 - val_loss: 0.0046\n",
      "Epoch 15/50\n",
      "7/7 [==============================] - 0s 14ms/step - loss: 0.2555 - val_loss: 0.0050\n",
      "Epoch 16/50\n",
      "7/7 [==============================] - 0s 14ms/step - loss: 0.3018 - val_loss: 0.0053\n",
      "Epoch 17/50\n",
      "7/7 [==============================] - 0s 14ms/step - loss: 0.2733 - val_loss: 0.0055\n",
      "Epoch 18/50\n",
      "7/7 [==============================] - 0s 14ms/step - loss: 0.2392 - val_loss: 0.0058\n",
      "Epoch 19/50\n",
      "7/7 [==============================] - 0s 13ms/step - loss: 0.2378 - val_loss: 0.0063\n",
      "Epoch 20/50\n",
      "7/7 [==============================] - 0s 13ms/step - loss: 0.2188 - val_loss: 0.0064\n",
      "Epoch 21/50\n",
      "7/7 [==============================] - 0s 14ms/step - loss: 0.1836 - val_loss: 0.0065\n",
      "Epoch 22/50\n",
      "7/7 [==============================] - 0s 14ms/step - loss: 0.1646 - val_loss: 0.0062\n",
      "Epoch 23/50\n",
      "7/7 [==============================] - 0s 16ms/step - loss: 0.1826 - val_loss: 0.0060\n",
      "Epoch 24/50\n",
      "7/7 [==============================] - 0s 15ms/step - loss: 0.1660 - val_loss: 0.0060\n",
      "Epoch 25/50\n",
      "7/7 [==============================] - 0s 14ms/step - loss: 0.1342 - val_loss: 0.0059\n",
      "Epoch 26/50\n",
      "7/7 [==============================] - 0s 25ms/step - loss: 0.1463 - val_loss: 0.0066\n",
      "Epoch 27/50\n",
      "7/7 [==============================] - 0s 22ms/step - loss: 0.1492 - val_loss: 0.0073\n",
      "Epoch 28/50\n",
      "7/7 [==============================] - 0s 13ms/step - loss: 0.1087 - val_loss: 0.0081\n",
      "Epoch 29/50\n",
      "7/7 [==============================] - 0s 13ms/step - loss: 0.1281 - val_loss: 0.0097\n",
      "Epoch 30/50\n",
      "7/7 [==============================] - 0s 13ms/step - loss: 0.1123 - val_loss: 0.0107\n",
      "Epoch 31/50\n",
      "7/7 [==============================] - 0s 17ms/step - loss: 0.1142 - val_loss: 0.0120\n",
      "Epoch 32/50\n",
      "7/7 [==============================] - 0s 13ms/step - loss: 0.1034 - val_loss: 0.0133\n",
      "Epoch 33/50\n",
      "7/7 [==============================] - 0s 14ms/step - loss: 0.1075 - val_loss: 0.0136\n",
      "Epoch 34/50\n",
      "7/7 [==============================] - 0s 13ms/step - loss: 0.0916 - val_loss: 0.0132\n",
      "Epoch 35/50\n",
      "7/7 [==============================] - 0s 14ms/step - loss: 0.0870 - val_loss: 0.0119\n",
      "Epoch 36/50\n",
      "7/7 [==============================] - 0s 13ms/step - loss: 0.0979 - val_loss: 0.0119\n",
      "Epoch 37/50\n",
      "7/7 [==============================] - 0s 15ms/step - loss: 0.0917 - val_loss: 0.0121\n",
      "Epoch 38/50\n",
      "7/7 [==============================] - 0s 14ms/step - loss: 0.0839 - val_loss: 0.0126\n",
      "Epoch 39/50\n",
      "7/7 [==============================] - 0s 15ms/step - loss: 0.0767 - val_loss: 0.0123\n",
      "Epoch 40/50\n",
      "7/7 [==============================] - 0s 14ms/step - loss: 0.0762 - val_loss: 0.0121\n",
      "Epoch 41/50\n",
      "7/7 [==============================] - 0s 14ms/step - loss: 0.0776 - val_loss: 0.0121\n",
      "Epoch 42/50\n",
      "7/7 [==============================] - 0s 14ms/step - loss: 0.0597 - val_loss: 0.0120\n",
      "Epoch 43/50\n",
      "7/7 [==============================] - 0s 16ms/step - loss: 0.0578 - val_loss: 0.0124\n",
      "Epoch 44/50\n",
      "7/7 [==============================] - 0s 14ms/step - loss: 0.0595 - val_loss: 0.0131\n",
      "Epoch 45/50\n",
      "7/7 [==============================] - 0s 16ms/step - loss: 0.0632 - val_loss: 0.0146\n",
      "Epoch 46/50\n",
      "7/7 [==============================] - 0s 14ms/step - loss: 0.0564 - val_loss: 0.0159\n",
      "Epoch 47/50\n",
      "7/7 [==============================] - 0s 14ms/step - loss: 0.0614 - val_loss: 0.0153\n",
      "Epoch 48/50\n",
      "7/7 [==============================] - 0s 16ms/step - loss: 0.0500 - val_loss: 0.0140\n",
      "Epoch 49/50\n",
      "7/7 [==============================] - 0s 13ms/step - loss: 0.0702 - val_loss: 0.0136\n",
      "Epoch 50/50\n",
      "7/7 [==============================] - 0s 16ms/step - loss: 0.0536 - val_loss: 0.0127\n"
     ]
    }
   ],
   "source": [
    "history = model.fit(X_train, y_train, epochs=50, batch_size=32, validation_split=0.33, shuffle=False)"
   ]
  },
  {
   "cell_type": "code",
   "execution_count": 20,
   "id": "5c330aef",
   "metadata": {
    "scrolled": false
   },
   "outputs": [
    {
     "data": {
      "image/png": "[encoded data removed]",
      "text/plain": [
       "<Figure size 640x480 with 1 Axes>"
      ]
     },
     "metadata": {},
     "output_type": "display_data"
    }
   ],
   "source": [
    "loss = history.history['loss']\n",
    "val_loss = history.history['val_loss']\n",
    "\n",
    "x = np.arange(0, len(history.history['loss']))\n",
    "\n",
    "plt.plot(x, loss, 'y', label='loss')\n",
    "plt.plot(x, val_loss, 'r', label='val loss')\n",
    "plt.title('Losses')\n",
    "plt.xlabel('epochs')\n",
    "plt.ylabel('loss')\n",
    "plt.legend()\n",
    "plt.show()"
   ]
  },
  {
   "cell_type": "code",
   "execution_count": 21,
   "id": "267270d7",
   "metadata": {
    "scrolled": false
   },
   "outputs": [
    {
     "name": "stdout",
     "output_type": "stream",
     "text": [
      "5/5 [==============================] - 0s 4ms/step\n"
     ]
    }
   ],
   "source": [
    "y_pred = model.predict(X_test)"
   ]
  },
  {
   "cell_type": "code",
   "execution_count": 22,
   "id": "03792381",
   "metadata": {},
   "outputs": [
    {
     "data": {
      "image/png": "[encoded data removed]",
      "text/plain": [
       "<Figure size 640x480 with 1 Axes>"
      ]
     },
     "metadata": {},
     "output_type": "display_data"
    }
   ],
   "source": [
    "y_pred.shape\n",
    "\n",
    "plt.plot(y_test, color='red', label='real stock price')\n",
    "plt.plot(y_pred, color='blue', label='predicted stock price')\n",
    "plt.title('stock price prediction')\n",
    "plt.xlabel('time')\n",
    "plt.ylabel('stock price')\n",
    "plt.legend()\n",
    "plt.show()"
   ]
  },
  {
   "cell_type": "markdown",
   "id": "be353f01",
   "metadata": {},
   "source": [
    "<h2> CNN <h2>"
   ]
  },
  {
   "cell_type": "code",
   "execution_count": 23,
   "id": "2c22f371",
   "metadata": {},
   "outputs": [
    {
     "name": "stdout",
     "output_type": "stream",
     "text": [
      "Model: \"sequential_1\"\n",
      "_________________________________________________________________\n",
      " Layer (type)                Output Shape              Param #   \n",
      "=================================================================\n",
      " conv1d (Conv1D)             (None, 8, 32)             320       \n",
      "                                                                 \n",
      " max_pooling1d (MaxPooling1  (None, 4, 32)             0         \n",
      " D)                                                              \n",
      "                                                                 \n",
      " conv1d_1 (Conv1D)           (None, 2, 64)             6208      \n",
      "                                                                 \n",
      " max_pooling1d_1 (MaxPoolin  (None, 1, 64)             0         \n",
      " g1D)                                                            \n",
      "                                                                 \n",
      " flatten (Flatten)           (None, 64)                0         \n",
      "                                                                 \n",
      " dense_1 (Dense)             (None, 64)                4160      \n",
      "                                                                 \n",
      " dropout_2 (Dropout)         (None, 64)                0         \n",
      "                                                                 \n",
      " dense_2 (Dense)             (None, 1)                 65        \n",
      "                                                                 \n",
      "=================================================================\n",
      "Total params: 10753 (42.00 KB)\n",
      "Trainable params: 10753 (42.00 KB)\n",
      "Non-trainable params: 0 (0.00 Byte)\n",
      "_________________________________________________________________\n"
     ]
    }
   ],
   "source": [
    "from keras.models import Sequential\n",
    "from keras.layers import Conv1D, MaxPooling1D, Flatten, Dropout, Dense\n",
    "\n",
    "model = Sequential([\n",
    "    Conv1D(32, kernel_size=3, activation='relu', input_shape=(X.shape[1], X.shape[2])),\n",
    "    MaxPooling1D(pool_size=2),\n",
    "    Conv1D(64, kernel_size=3, activation='relu'),\n",
    "    MaxPooling1D(pool_size=2),\n",
    "    Flatten(),\n",
    "    Dense(64, activation='relu'),\n",
    "    Dropout(0.5),\n",
    "    Dense(1)\n",
    "])\n",
    "\n",
    "model.summary()\n",
    "\n",
    "model.compile(loss='mse', optimizer='adam')\n",
    "\n",
    "\n",
    "# 이하 동일한 코드\n"
   ]
  },
  {
   "cell_type": "code",
   "execution_count": 24,
   "id": "1ee081e2",
   "metadata": {
    "scrolled": true
   },
   "outputs": [
    {
     "name": "stdout",
     "output_type": "stream",
     "text": [
      "Epoch 1/50\n",
      "7/7 [==============================] - 2s 77ms/step - loss: 0.3646 - val_loss: 0.0224\n",
      "Epoch 2/50\n",
      "7/7 [==============================] - 0s 12ms/step - loss: 0.1206 - val_loss: 0.0023\n",
      "Epoch 3/50\n",
      "7/7 [==============================] - 0s 11ms/step - loss: 0.0449 - val_loss: 0.0064\n",
      "Epoch 4/50\n",
      "7/7 [==============================] - 0s 12ms/step - loss: 0.0312 - val_loss: 0.0085\n",
      "Epoch 5/50\n",
      "7/7 [==============================] - 0s 12ms/step - loss: 0.0334 - val_loss: 0.0035\n",
      "Epoch 6/50\n",
      "7/7 [==============================] - 0s 12ms/step - loss: 0.0288 - val_loss: 0.0020\n",
      "Epoch 7/50\n",
      "7/7 [==============================] - 0s 17ms/step - loss: 0.0334 - val_loss: 0.0024\n",
      "Epoch 8/50\n",
      "7/7 [==============================] - 0s 11ms/step - loss: 0.0245 - val_loss: 0.0047\n",
      "Epoch 9/50\n",
      "7/7 [==============================] - 0s 10ms/step - loss: 0.0226 - val_loss: 0.0053\n",
      "Epoch 10/50\n",
      "7/7 [==============================] - 0s 12ms/step - loss: 0.0192 - val_loss: 0.0038\n",
      "Epoch 11/50\n",
      "7/7 [==============================] - 0s 11ms/step - loss: 0.0189 - val_loss: 0.0027\n",
      "Epoch 12/50\n",
      "7/7 [==============================] - 0s 10ms/step - loss: 0.0236 - val_loss: 0.0033\n",
      "Epoch 13/50\n",
      "7/7 [==============================] - 0s 10ms/step - loss: 0.0237 - val_loss: 0.0043\n",
      "Epoch 14/50\n",
      "7/7 [==============================] - 0s 9ms/step - loss: 0.0197 - val_loss: 0.0037\n",
      "Epoch 15/50\n",
      "7/7 [==============================] - 0s 10ms/step - loss: 0.0178 - val_loss: 0.0034\n",
      "Epoch 16/50\n",
      "7/7 [==============================] - 0s 10ms/step - loss: 0.0207 - val_loss: 0.0037\n",
      "Epoch 17/50\n",
      "7/7 [==============================] - 0s 10ms/step - loss: 0.0186 - val_loss: 0.0033\n",
      "Epoch 18/50\n",
      "7/7 [==============================] - 0s 9ms/step - loss: 0.0188 - val_loss: 0.0032\n",
      "Epoch 19/50\n",
      "7/7 [==============================] - 0s 9ms/step - loss: 0.0157 - val_loss: 0.0034\n",
      "Epoch 20/50\n",
      "7/7 [==============================] - 0s 10ms/step - loss: 0.0178 - val_loss: 0.0036\n",
      "Epoch 21/50\n",
      "7/7 [==============================] - 0s 9ms/step - loss: 0.0174 - val_loss: 0.0027\n",
      "Epoch 22/50\n",
      "7/7 [==============================] - 0s 10ms/step - loss: 0.0188 - val_loss: 0.0027\n",
      "Epoch 23/50\n",
      "7/7 [==============================] - 0s 10ms/step - loss: 0.0192 - val_loss: 0.0031\n",
      "Epoch 24/50\n",
      "7/7 [==============================] - 0s 9ms/step - loss: 0.0163 - val_loss: 0.0045\n",
      "Epoch 25/50\n",
      "7/7 [==============================] - 0s 11ms/step - loss: 0.0191 - val_loss: 0.0034\n",
      "Epoch 26/50\n",
      "7/7 [==============================] - 0s 12ms/step - loss: 0.0141 - val_loss: 0.0026\n",
      "Epoch 27/50\n",
      "7/7 [==============================] - 0s 17ms/step - loss: 0.0171 - val_loss: 0.0029\n",
      "Epoch 28/50\n",
      "7/7 [==============================] - 0s 12ms/step - loss: 0.0177 - val_loss: 0.0038\n",
      "Epoch 29/50\n",
      "7/7 [==============================] - 0s 9ms/step - loss: 0.0185 - val_loss: 0.0032\n",
      "Epoch 30/50\n",
      "7/7 [==============================] - 0s 9ms/step - loss: 0.0172 - val_loss: 0.0025\n",
      "Epoch 31/50\n",
      "7/7 [==============================] - 0s 14ms/step - loss: 0.0137 - val_loss: 0.0028\n",
      "Epoch 32/50\n",
      "7/7 [==============================] - 0s 17ms/step - loss: 0.0197 - val_loss: 0.0038\n",
      "Epoch 33/50\n",
      "7/7 [==============================] - 0s 10ms/step - loss: 0.0174 - val_loss: 0.0026\n",
      "Epoch 34/50\n",
      "7/7 [==============================] - 0s 10ms/step - loss: 0.0134 - val_loss: 0.0026\n",
      "Epoch 35/50\n",
      "7/7 [==============================] - 0s 17ms/step - loss: 0.0158 - val_loss: 0.0037\n",
      "Epoch 36/50\n",
      "7/7 [==============================] - 0s 14ms/step - loss: 0.0155 - val_loss: 0.0042\n",
      "Epoch 37/50\n",
      "7/7 [==============================] - 0s 9ms/step - loss: 0.0162 - val_loss: 0.0024\n",
      "Epoch 38/50\n",
      "7/7 [==============================] - 0s 10ms/step - loss: 0.0142 - val_loss: 0.0023\n",
      "Epoch 39/50\n",
      "7/7 [==============================] - 0s 16ms/step - loss: 0.0146 - val_loss: 0.0033\n",
      "Epoch 40/50\n",
      "7/7 [==============================] - 0s 16ms/step - loss: 0.0181 - val_loss: 0.0033\n",
      "Epoch 41/50\n",
      "7/7 [==============================] - 0s 10ms/step - loss: 0.0115 - val_loss: 0.0025\n",
      "Epoch 42/50\n",
      "7/7 [==============================] - 0s 10ms/step - loss: 0.0153 - val_loss: 0.0028\n",
      "Epoch 43/50\n",
      "7/7 [==============================] - 0s 11ms/step - loss: 0.0136 - val_loss: 0.0038\n",
      "Epoch 44/50\n",
      "7/7 [==============================] - 0s 10ms/step - loss: 0.0126 - val_loss: 0.0026\n",
      "Epoch 45/50\n",
      "7/7 [==============================] - 0s 14ms/step - loss: 0.0182 - val_loss: 0.0022\n",
      "Epoch 46/50\n",
      "7/7 [==============================] - 0s 17ms/step - loss: 0.0140 - val_loss: 0.0036\n",
      "Epoch 47/50\n",
      "7/7 [==============================] - 0s 9ms/step - loss: 0.0122 - val_loss: 0.0033\n",
      "Epoch 48/50\n",
      "7/7 [==============================] - 0s 11ms/step - loss: 0.0116 - val_loss: 0.0020\n",
      "Epoch 49/50\n",
      "7/7 [==============================] - 0s 10ms/step - loss: 0.0128 - val_loss: 0.0024\n",
      "Epoch 50/50\n",
      "7/7 [==============================] - 0s 9ms/step - loss: 0.0153 - val_loss: 0.0035\n"
     ]
    }
   ],
   "source": [
    "\n",
    "history = model.fit(X_train, y_train, epochs=50, batch_size=32, validation_split=0.33, shuffle=False)"
   ]
  },
  {
   "cell_type": "code",
   "execution_count": 25,
   "id": "fb9929bb",
   "metadata": {},
   "outputs": [
    {
     "data": {
      "image/png": "[encoded data removed]",
      "text/plain": [
       "<Figure size 640x480 with 1 Axes>"
      ]
     },
     "metadata": {},
     "output_type": "display_data"
    }
   ],
   "source": [
    "loss = history.history['loss']\n",
    "val_loss = history.history['val_loss']\n",
    "\n",
    "x = np.arange(0, len(history.history['loss']))\n",
    "\n",
    "plt.plot(x, loss, 'y', label='loss')\n",
    "plt.plot(x, val_loss, 'r', label='val loss')\n",
    "plt.title('Losses')\n",
    "plt.xlabel('epochs')\n",
    "plt.ylabel('loss')\n",
    "plt.legend()\n",
    "plt.show()"
   ]
  },
  {
   "cell_type": "code",
   "execution_count": 26,
   "id": "6b16176a",
   "metadata": {},
   "outputs": [
    {
     "name": "stdout",
     "output_type": "stream",
     "text": [
      "5/5 [==============================] - 0s 3ms/step\n"
     ]
    }
   ],
   "source": [
    "y_pred = model.predict(X_test)"
   ]
  },
  {
   "cell_type": "code",
   "execution_count": 27,
   "id": "c9ee30a6",
   "metadata": {},
   "outputs": [
    {
     "data": {
      "image/png": "[encoded data removed]",
      "text/plain": [
       "<Figure size 640x480 with 1 Axes>"
      ]
     },
     "metadata": {},
     "output_type": "display_data"
    }
   ],
   "source": [
    "y_pred.shape\n",
    "\n",
    "plt.plot(y_test, color='red', label='real stock price')\n",
    "plt.plot(y_pred, color='blue', label='predicted stock price')\n",
    "plt.title('stock price prediction')\n",
    "plt.xlabel('time')\n",
    "plt.ylabel('stock price')\n",
    "plt.legend()\n",
    "plt.show()"
   ]
  },
  {
   "cell_type": "code",
   "execution_count": null,
   "id": "22d3be8e",
   "metadata": {},
   "outputs": [],
   "source": []
  }
 ],
 "metadata": {
  "kernelspec": {
   "display_name": "Python 3 (ipykernel)",
   "language": "python",
   "name": "python3"
  },
  "language_info": {
   "codemirror_mode": {
    "name": "ipython",
    "version": 3
   },
   "file_extension": ".py",
   "mimetype": "text/x-python",
   "name": "python",
   "nbconvert_exporter": "python",
   "pygments_lexer": "ipython3",
   "version": "3.9.13"
  }
 },
 "nbformat": 4,
 "nbformat_minor": 5
}
