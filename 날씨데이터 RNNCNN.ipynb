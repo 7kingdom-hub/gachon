{
 "cells": [
  {
   "cell_type": "code",
   "execution_count": 1,
   "id": "b15c4200",
   "metadata": {},
   "outputs": [],
   "source": [
    "import numpy as np\n",
    "import pandas as pd\n",
    "from sklearn.model_selection import train_test_split\n",
    "from sklearn.preprocessing import MinMaxScaler\n",
    "from keras.models import Sequential\n",
    "from keras.layers import Conv1D, MaxPooling1D, Flatten, Dense\n",
    "import matplotlib.pyplot as plt\n"
   ]
  },
  {
   "cell_type": "code",
   "execution_count": 2,
   "id": "1af673b7",
   "metadata": {},
   "outputs": [],
   "source": [
    "\n",
    "train_df = pd.read_csv('C:/Users/7kingdom/Downloads/DailyDelhiClimateTrain.csv')\n",
    "test_df = pd.read_csv('C:/Users/7kingdom/Downloads/DailyDelhiClimateTest.csv')\n"
   ]
  },
  {
   "cell_type": "code",
   "execution_count": 3,
   "id": "79aa785e",
   "metadata": {},
   "outputs": [
    {
     "data": {
      "text/html": [
       "<div>\n",
       "<style scoped>\n",
       "    .dataframe tbody tr th:only-of-type {\n",
       "        vertical-align: middle;\n",
       "    }\n",
       "\n",
       "    .dataframe tbody tr th {\n",
       "        vertical-align: top;\n",
       "    }\n",
       "\n",
       "    .dataframe thead th {\n",
       "        text-align: right;\n",
       "    }\n",
       "</style>\n",
       "<table border=\"1\" class=\"dataframe\">\n",
       "  <thead>\n",
       "    <tr style=\"text-align: right;\">\n",
       "      <th></th>\n",
       "      <th>date</th>\n",
       "      <th>meantemp</th>\n",
       "      <th>humidity</th>\n",
       "      <th>wind_speed</th>\n",
       "      <th>meanpressure</th>\n",
       "    </tr>\n",
       "  </thead>\n",
       "  <tbody>\n",
       "    <tr>\n",
       "      <th>0</th>\n",
       "      <td>2013-01-01</td>\n",
       "      <td>10.000000</td>\n",
       "      <td>84.500000</td>\n",
       "      <td>0.000000</td>\n",
       "      <td>1015.666667</td>\n",
       "    </tr>\n",
       "    <tr>\n",
       "      <th>1</th>\n",
       "      <td>2013-01-02</td>\n",
       "      <td>7.400000</td>\n",
       "      <td>92.000000</td>\n",
       "      <td>2.980000</td>\n",
       "      <td>1017.800000</td>\n",
       "    </tr>\n",
       "    <tr>\n",
       "      <th>2</th>\n",
       "      <td>2013-01-03</td>\n",
       "      <td>7.166667</td>\n",
       "      <td>87.000000</td>\n",
       "      <td>4.633333</td>\n",
       "      <td>1018.666667</td>\n",
       "    </tr>\n",
       "    <tr>\n",
       "      <th>3</th>\n",
       "      <td>2013-01-04</td>\n",
       "      <td>8.666667</td>\n",
       "      <td>71.333333</td>\n",
       "      <td>1.233333</td>\n",
       "      <td>1017.166667</td>\n",
       "    </tr>\n",
       "    <tr>\n",
       "      <th>4</th>\n",
       "      <td>2013-01-05</td>\n",
       "      <td>6.000000</td>\n",
       "      <td>86.833333</td>\n",
       "      <td>3.700000</td>\n",
       "      <td>1016.500000</td>\n",
       "    </tr>\n",
       "    <tr>\n",
       "      <th>...</th>\n",
       "      <td>...</td>\n",
       "      <td>...</td>\n",
       "      <td>...</td>\n",
       "      <td>...</td>\n",
       "      <td>...</td>\n",
       "    </tr>\n",
       "    <tr>\n",
       "      <th>1457</th>\n",
       "      <td>2016-12-28</td>\n",
       "      <td>17.217391</td>\n",
       "      <td>68.043478</td>\n",
       "      <td>3.547826</td>\n",
       "      <td>1015.565217</td>\n",
       "    </tr>\n",
       "    <tr>\n",
       "      <th>1458</th>\n",
       "      <td>2016-12-29</td>\n",
       "      <td>15.238095</td>\n",
       "      <td>87.857143</td>\n",
       "      <td>6.000000</td>\n",
       "      <td>1016.904762</td>\n",
       "    </tr>\n",
       "    <tr>\n",
       "      <th>1459</th>\n",
       "      <td>2016-12-30</td>\n",
       "      <td>14.095238</td>\n",
       "      <td>89.666667</td>\n",
       "      <td>6.266667</td>\n",
       "      <td>1017.904762</td>\n",
       "    </tr>\n",
       "    <tr>\n",
       "      <th>1460</th>\n",
       "      <td>2016-12-31</td>\n",
       "      <td>15.052632</td>\n",
       "      <td>87.000000</td>\n",
       "      <td>7.325000</td>\n",
       "      <td>1016.100000</td>\n",
       "    </tr>\n",
       "    <tr>\n",
       "      <th>1461</th>\n",
       "      <td>2017-01-01</td>\n",
       "      <td>10.000000</td>\n",
       "      <td>100.000000</td>\n",
       "      <td>0.000000</td>\n",
       "      <td>1016.000000</td>\n",
       "    </tr>\n",
       "  </tbody>\n",
       "</table>\n",
       "<p>1462 rows × 5 columns</p>\n",
       "</div>"
      ],
      "text/plain": [
       "            date   meantemp    humidity  wind_speed  meanpressure\n",
       "0     2013-01-01  10.000000   84.500000    0.000000   1015.666667\n",
       "1     2013-01-02   7.400000   92.000000    2.980000   1017.800000\n",
       "2     2013-01-03   7.166667   87.000000    4.633333   1018.666667\n",
       "3     2013-01-04   8.666667   71.333333    1.233333   1017.166667\n",
       "4     2013-01-05   6.000000   86.833333    3.700000   1016.500000\n",
       "...          ...        ...         ...         ...           ...\n",
       "1457  2016-12-28  17.217391   68.043478    3.547826   1015.565217\n",
       "1458  2016-12-29  15.238095   87.857143    6.000000   1016.904762\n",
       "1459  2016-12-30  14.095238   89.666667    6.266667   1017.904762\n",
       "1460  2016-12-31  15.052632   87.000000    7.325000   1016.100000\n",
       "1461  2017-01-01  10.000000  100.000000    0.000000   1016.000000\n",
       "\n",
       "[1462 rows x 5 columns]"
      ]
     },
     "execution_count": 3,
     "metadata": {},
     "output_type": "execute_result"
    }
   ],
   "source": [
    "train_df"
   ]
  },
  {
   "cell_type": "code",
   "execution_count": 4,
   "id": "45e8c7e2",
   "metadata": {
    "scrolled": false
   },
   "outputs": [
    {
     "data": {
      "text/html": [
       "<div>\n",
       "<style scoped>\n",
       "    .dataframe tbody tr th:only-of-type {\n",
       "        vertical-align: middle;\n",
       "    }\n",
       "\n",
       "    .dataframe tbody tr th {\n",
       "        vertical-align: top;\n",
       "    }\n",
       "\n",
       "    .dataframe thead th {\n",
       "        text-align: right;\n",
       "    }\n",
       "</style>\n",
       "<table border=\"1\" class=\"dataframe\">\n",
       "  <thead>\n",
       "    <tr style=\"text-align: right;\">\n",
       "      <th></th>\n",
       "      <th>date</th>\n",
       "      <th>meantemp</th>\n",
       "      <th>humidity</th>\n",
       "      <th>wind_speed</th>\n",
       "      <th>meanpressure</th>\n",
       "    </tr>\n",
       "  </thead>\n",
       "  <tbody>\n",
       "    <tr>\n",
       "      <th>0</th>\n",
       "      <td>2017-01-01</td>\n",
       "      <td>15.913043</td>\n",
       "      <td>85.869565</td>\n",
       "      <td>2.743478</td>\n",
       "      <td>59.000000</td>\n",
       "    </tr>\n",
       "    <tr>\n",
       "      <th>1</th>\n",
       "      <td>2017-01-02</td>\n",
       "      <td>18.500000</td>\n",
       "      <td>77.222222</td>\n",
       "      <td>2.894444</td>\n",
       "      <td>1018.277778</td>\n",
       "    </tr>\n",
       "    <tr>\n",
       "      <th>2</th>\n",
       "      <td>2017-01-03</td>\n",
       "      <td>17.111111</td>\n",
       "      <td>81.888889</td>\n",
       "      <td>4.016667</td>\n",
       "      <td>1018.333333</td>\n",
       "    </tr>\n",
       "    <tr>\n",
       "      <th>3</th>\n",
       "      <td>2017-01-04</td>\n",
       "      <td>18.700000</td>\n",
       "      <td>70.050000</td>\n",
       "      <td>4.545000</td>\n",
       "      <td>1015.700000</td>\n",
       "    </tr>\n",
       "    <tr>\n",
       "      <th>4</th>\n",
       "      <td>2017-01-05</td>\n",
       "      <td>18.388889</td>\n",
       "      <td>74.944444</td>\n",
       "      <td>3.300000</td>\n",
       "      <td>1014.333333</td>\n",
       "    </tr>\n",
       "    <tr>\n",
       "      <th>...</th>\n",
       "      <td>...</td>\n",
       "      <td>...</td>\n",
       "      <td>...</td>\n",
       "      <td>...</td>\n",
       "      <td>...</td>\n",
       "    </tr>\n",
       "    <tr>\n",
       "      <th>109</th>\n",
       "      <td>2017-04-20</td>\n",
       "      <td>34.500000</td>\n",
       "      <td>27.500000</td>\n",
       "      <td>5.562500</td>\n",
       "      <td>998.625000</td>\n",
       "    </tr>\n",
       "    <tr>\n",
       "      <th>110</th>\n",
       "      <td>2017-04-21</td>\n",
       "      <td>34.250000</td>\n",
       "      <td>39.375000</td>\n",
       "      <td>6.962500</td>\n",
       "      <td>999.875000</td>\n",
       "    </tr>\n",
       "    <tr>\n",
       "      <th>111</th>\n",
       "      <td>2017-04-22</td>\n",
       "      <td>32.900000</td>\n",
       "      <td>40.900000</td>\n",
       "      <td>8.890000</td>\n",
       "      <td>1001.600000</td>\n",
       "    </tr>\n",
       "    <tr>\n",
       "      <th>112</th>\n",
       "      <td>2017-04-23</td>\n",
       "      <td>32.875000</td>\n",
       "      <td>27.500000</td>\n",
       "      <td>9.962500</td>\n",
       "      <td>1002.125000</td>\n",
       "    </tr>\n",
       "    <tr>\n",
       "      <th>113</th>\n",
       "      <td>2017-04-24</td>\n",
       "      <td>32.000000</td>\n",
       "      <td>27.142857</td>\n",
       "      <td>12.157143</td>\n",
       "      <td>1004.142857</td>\n",
       "    </tr>\n",
       "  </tbody>\n",
       "</table>\n",
       "<p>114 rows × 5 columns</p>\n",
       "</div>"
      ],
      "text/plain": [
       "           date   meantemp   humidity  wind_speed  meanpressure\n",
       "0    2017-01-01  15.913043  85.869565    2.743478     59.000000\n",
       "1    2017-01-02  18.500000  77.222222    2.894444   1018.277778\n",
       "2    2017-01-03  17.111111  81.888889    4.016667   1018.333333\n",
       "3    2017-01-04  18.700000  70.050000    4.545000   1015.700000\n",
       "4    2017-01-05  18.388889  74.944444    3.300000   1014.333333\n",
       "..          ...        ...        ...         ...           ...\n",
       "109  2017-04-20  34.500000  27.500000    5.562500    998.625000\n",
       "110  2017-04-21  34.250000  39.375000    6.962500    999.875000\n",
       "111  2017-04-22  32.900000  40.900000    8.890000   1001.600000\n",
       "112  2017-04-23  32.875000  27.500000    9.962500   1002.125000\n",
       "113  2017-04-24  32.000000  27.142857   12.157143   1004.142857\n",
       "\n",
       "[114 rows x 5 columns]"
      ]
     },
     "execution_count": 4,
     "metadata": {},
     "output_type": "execute_result"
    }
   ],
   "source": [
    "test_df"
   ]
  },
  {
   "cell_type": "code",
   "execution_count": 5,
   "id": "ab001cec",
   "metadata": {},
   "outputs": [],
   "source": [
    "explain_columns = [\"humidity\", \"wind_speed\", \"meanpressure\"]\n",
    "y_column = \"meantemp\""
   ]
  },
  {
   "cell_type": "code",
   "execution_count": 6,
   "id": "e0dc25e6",
   "metadata": {},
   "outputs": [],
   "source": [
    "\n",
    "X_train = train_df[explain_columns].values\n",
    "y_train = train_df[y_column].values\n",
    "X_test = test_df[explain_columns].values\n",
    "y_test = test_df[y_column].values\n"
   ]
  },
  {
   "cell_type": "code",
   "execution_count": 7,
   "id": "fd201a0c",
   "metadata": {},
   "outputs": [],
   "source": [
    "scaler = MinMaxScaler()\n",
    "X_train = scaler.fit_transform(X_train)\n",
    "X_test = scaler.transform(X_test)"
   ]
  },
  {
   "cell_type": "code",
   "execution_count": 8,
   "id": "ef8453fa",
   "metadata": {},
   "outputs": [
    {
     "name": "stdout",
     "output_type": "stream",
     "text": [
      "Model: \"sequential\"\n",
      "_________________________________________________________________\n",
      " Layer (type)                Output Shape              Param #   \n",
      "=================================================================\n",
      " conv1d (Conv1D)             (None, 1, 32)             128       \n",
      "                                                                 \n",
      " max_pooling1d (MaxPooling1  (None, 1, 32)             0         \n",
      " D)                                                              \n",
      "                                                                 \n",
      " flatten (Flatten)           (None, 32)                0         \n",
      "                                                                 \n",
      " dense (Dense)               (None, 128)               4224      \n",
      "                                                                 \n",
      " dense_1 (Dense)             (None, 1)                 129       \n",
      "                                                                 \n",
      "=================================================================\n",
      "Total params: 4481 (17.50 KB)\n",
      "Trainable params: 4481 (17.50 KB)\n",
      "Non-trainable params: 0 (0.00 Byte)\n",
      "_________________________________________________________________\n"
     ]
    }
   ],
   "source": [
    "model = Sequential([\n",
    "    Conv1D(32, kernel_size=3, activation='relu', input_shape=(X_train.shape[1], 1)),\n",
    "    MaxPooling1D(pool_size=1),  # pool_size를 1로 변경\n",
    "    Flatten(),\n",
    "    Dense(128, activation='relu'),  # 출력 차원을 늘림\n",
    "    Dense(1)\n",
    "])\n",
    "\n",
    "model.summary()"
   ]
  },
  {
   "cell_type": "code",
   "execution_count": 9,
   "id": "a912959a",
   "metadata": {},
   "outputs": [],
   "source": [
    "model.compile(loss='mse', optimizer='adam')"
   ]
  },
  {
   "cell_type": "code",
   "execution_count": 10,
   "id": "8e70d161",
   "metadata": {},
   "outputs": [],
   "source": [
    "X_train = X_train.reshape(X_train.shape[0], X_train.shape[1], 1)\n",
    "X_test = X_test.reshape(X_test.shape[0], X_test.shape[1], 1)"
   ]
  },
  {
   "cell_type": "code",
   "execution_count": 11,
   "id": "58b3b1f8",
   "metadata": {
    "scrolled": true
   },
   "outputs": [
    {
     "name": "stdout",
     "output_type": "stream",
     "text": [
      "Epoch 1/50\n",
      "37/37 [==============================] - 1s 12ms/step - loss: 645.6134 - val_loss: 846.4901\n",
      "Epoch 2/50\n",
      "37/37 [==============================] - 0s 5ms/step - loss: 573.1316 - val_loss: 688.6635\n",
      "Epoch 3/50\n",
      "37/37 [==============================] - 0s 4ms/step - loss: 374.1599 - val_loss: 359.2625\n",
      "Epoch 4/50\n",
      "37/37 [==============================] - 0s 4ms/step - loss: 145.5087 - val_loss: 113.5329\n",
      "Epoch 5/50\n",
      "37/37 [==============================] - 0s 5ms/step - loss: 82.7896 - val_loss: 77.8715\n",
      "Epoch 6/50\n",
      "37/37 [==============================] - 0s 4ms/step - loss: 80.3389 - val_loss: 77.8056\n",
      "Epoch 7/50\n",
      "37/37 [==============================] - 0s 4ms/step - loss: 78.4735 - val_loss: 76.2081\n",
      "Epoch 8/50\n",
      "37/37 [==============================] - 0s 4ms/step - loss: 76.7810 - val_loss: 74.2918\n",
      "Epoch 9/50\n",
      "37/37 [==============================] - 0s 4ms/step - loss: 75.2255 - val_loss: 72.5441\n",
      "Epoch 10/50\n",
      "37/37 [==============================] - 0s 4ms/step - loss: 73.7656 - val_loss: 70.8993\n",
      "Epoch 11/50\n",
      "37/37 [==============================] - 0s 4ms/step - loss: 72.3835 - val_loss: 69.3429\n",
      "Epoch 12/50\n",
      "37/37 [==============================] - 0s 5ms/step - loss: 71.0682 - val_loss: 67.8650\n",
      "Epoch 13/50\n",
      "37/37 [==============================] - 0s 3ms/step - loss: 69.8115 - val_loss: 66.4557\n",
      "Epoch 14/50\n",
      "37/37 [==============================] - 0s 3ms/step - loss: 68.6072 - val_loss: 65.1112\n",
      "Epoch 15/50\n",
      "37/37 [==============================] - 0s 4ms/step - loss: 67.4515 - val_loss: 63.8204\n",
      "Epoch 16/50\n",
      "37/37 [==============================] - 0s 4ms/step - loss: 66.3400 - val_loss: 62.5960\n",
      "Epoch 17/50\n",
      "37/37 [==============================] - 0s 4ms/step - loss: 65.2698 - val_loss: 61.4265\n",
      "Epoch 18/50\n",
      "37/37 [==============================] - 0s 4ms/step - loss: 64.2381 - val_loss: 60.3072\n",
      "Epoch 19/50\n",
      "37/37 [==============================] - 0s 4ms/step - loss: 63.2429 - val_loss: 59.2331\n",
      "Epoch 20/50\n",
      "37/37 [==============================] - 0s 5ms/step - loss: 62.2826 - val_loss: 58.2003\n",
      "Epoch 21/50\n",
      "37/37 [==============================] - 0s 4ms/step - loss: 61.3560 - val_loss: 57.2200\n",
      "Epoch 22/50\n",
      "37/37 [==============================] - 0s 5ms/step - loss: 60.4611 - val_loss: 56.2803\n",
      "Epoch 23/50\n",
      "37/37 [==============================] - 0s 4ms/step - loss: 59.5968 - val_loss: 55.3806\n",
      "Epoch 24/50\n",
      "37/37 [==============================] - 0s 3ms/step - loss: 58.7623 - val_loss: 54.5231\n",
      "Epoch 25/50\n",
      "37/37 [==============================] - 0s 3ms/step - loss: 57.9560 - val_loss: 53.6993\n",
      "Epoch 26/50\n",
      "37/37 [==============================] - 0s 4ms/step - loss: 57.1772 - val_loss: 52.9142\n",
      "Epoch 27/50\n",
      "37/37 [==============================] - 0s 4ms/step - loss: 56.4258 - val_loss: 52.1595\n",
      "Epoch 28/50\n",
      "37/37 [==============================] - 0s 4ms/step - loss: 55.6998 - val_loss: 51.4452\n",
      "Epoch 29/50\n",
      "37/37 [==============================] - 0s 4ms/step - loss: 54.9991 - val_loss: 50.7688\n",
      "Epoch 30/50\n",
      "37/37 [==============================] - 0s 3ms/step - loss: 54.3220 - val_loss: 50.1219\n",
      "Epoch 31/50\n",
      "37/37 [==============================] - 0s 5ms/step - loss: 53.6689 - val_loss: 49.5102\n",
      "Epoch 32/50\n",
      "37/37 [==============================] - 0s 3ms/step - loss: 53.0383 - val_loss: 48.9202\n",
      "Epoch 33/50\n",
      "37/37 [==============================] - 0s 3ms/step - loss: 52.4302 - val_loss: 48.3641\n",
      "Epoch 34/50\n",
      "37/37 [==============================] - 0s 5ms/step - loss: 51.8434 - val_loss: 47.8352\n",
      "Epoch 35/50\n",
      "37/37 [==============================] - 0s 4ms/step - loss: 51.2772 - val_loss: 47.3332\n",
      "Epoch 36/50\n",
      "37/37 [==============================] - 0s 4ms/step - loss: 50.7316 - val_loss: 46.8549\n",
      "Epoch 37/50\n",
      "37/37 [==============================] - 0s 4ms/step - loss: 50.2039 - val_loss: 46.4091\n",
      "Epoch 38/50\n",
      "37/37 [==============================] - 0s 4ms/step - loss: 49.6949 - val_loss: 45.9849\n",
      "Epoch 39/50\n",
      "37/37 [==============================] - 0s 4ms/step - loss: 49.2046 - val_loss: 45.5780\n",
      "Epoch 40/50\n",
      "37/37 [==============================] - 0s 4ms/step - loss: 48.7312 - val_loss: 45.1924\n",
      "Epoch 41/50\n",
      "37/37 [==============================] - 0s 4ms/step - loss: 48.2757 - val_loss: 44.8290\n",
      "Epoch 42/50\n",
      "37/37 [==============================] - 0s 3ms/step - loss: 47.8365 - val_loss: 44.4883\n",
      "Epoch 43/50\n",
      "37/37 [==============================] - 0s 3ms/step - loss: 47.4130 - val_loss: 44.1625\n",
      "Epoch 44/50\n",
      "37/37 [==============================] - 0s 3ms/step - loss: 47.0044 - val_loss: 43.8568\n",
      "Epoch 45/50\n",
      "37/37 [==============================] - 0s 3ms/step - loss: 46.6109 - val_loss: 43.5715\n",
      "Epoch 46/50\n",
      "37/37 [==============================] - 0s 4ms/step - loss: 46.2314 - val_loss: 43.3028\n",
      "Epoch 47/50\n",
      "37/37 [==============================] - 0s 4ms/step - loss: 45.8654 - val_loss: 43.0435\n",
      "Epoch 48/50\n",
      "37/37 [==============================] - 0s 3ms/step - loss: 45.5130 - val_loss: 42.8083\n",
      "Epoch 49/50\n",
      "37/37 [==============================] - 0s 4ms/step - loss: 45.1731 - val_loss: 42.5854\n",
      "Epoch 50/50\n",
      "37/37 [==============================] - 0s 5ms/step - loss: 44.8454 - val_loss: 42.3687\n"
     ]
    }
   ],
   "source": [
    "history = model.fit(X_train, y_train, epochs=50, batch_size=32, validation_split=0.2, shuffle=False)\n"
   ]
  },
  {
   "cell_type": "code",
   "execution_count": 12,
   "id": "d3acf400",
   "metadata": {},
   "outputs": [
    {
     "data": {
      "image/png": "[encoded data removed]",
      "text/plain": [
       "<Figure size 640x480 with 1 Axes>"
      ]
     },
     "metadata": {},
     "output_type": "display_data"
    }
   ],
   "source": [
    "loss = history.history['loss']\n",
    "val_loss = history.history['val_loss']\n",
    "\n",
    "x = np.arange(0, len(history.history['loss']))\n",
    "\n",
    "plt.plot(x, loss, 'y', label='loss')\n",
    "plt.plot(x, val_loss, 'r', label='val loss')\n",
    "plt.title('Losses')\n",
    "plt.xlabel('epochs')\n",
    "plt.ylabel('loss')\n",
    "plt.legend()\n",
    "plt.show()"
   ]
  },
  {
   "cell_type": "code",
   "execution_count": 13,
   "id": "62f376e5",
   "metadata": {},
   "outputs": [
    {
     "name": "stdout",
     "output_type": "stream",
     "text": [
      "4/4 [==============================] - 0s 3ms/step\n"
     ]
    }
   ],
   "source": [
    "y_pred = model.predict(X_test)\n"
   ]
  },
  {
   "cell_type": "code",
   "execution_count": 14,
   "id": "920c4df3",
   "metadata": {},
   "outputs": [
    {
     "name": "stdout",
     "output_type": "stream",
     "text": [
      "Mean Squared Error (MSE): 45.03683098119612\n"
     ]
    }
   ],
   "source": [
    "from sklearn.metrics import mean_squared_error\n",
    "mse = mean_squared_error(y_test, y_pred)\n",
    "print(f\"Mean Squared Error (MSE): {mse}\")\n"
   ]
  },
  {
   "cell_type": "code",
   "execution_count": 15,
   "id": "38bab68d",
   "metadata": {},
   "outputs": [
    {
     "name": "stdout",
     "output_type": "stream",
     "text": [
      "Model: \"sequential_1\"\n",
      "_________________________________________________________________\n",
      " Layer (type)                Output Shape              Param #   \n",
      "=================================================================\n",
      " simple_rnn (SimpleRNN)      (None, 32)                1088      \n",
      "                                                                 \n",
      " dense_2 (Dense)             (None, 128)               4224      \n",
      "                                                                 \n",
      " dense_3 (Dense)             (None, 1)                 129       \n",
      "                                                                 \n",
      "=================================================================\n",
      "Total params: 5441 (21.25 KB)\n",
      "Trainable params: 5441 (21.25 KB)\n",
      "Non-trainable params: 0 (0.00 Byte)\n",
      "_________________________________________________________________\n"
     ]
    }
   ],
   "source": [
    "from keras.layers import SimpleRNN\n",
    "\n",
    "model = Sequential([\n",
    "    SimpleRNN(32, activation='relu', input_shape=(X_train.shape[1], 1)),\n",
    "    Dense(128, activation='relu'),\n",
    "    Dense(1)\n",
    "])\n",
    "model.summary()"
   ]
  },
  {
   "cell_type": "code",
   "execution_count": 16,
   "id": "ae02351a",
   "metadata": {},
   "outputs": [],
   "source": [
    "model.compile(loss='mse', optimizer='adam')"
   ]
  },
  {
   "cell_type": "code",
   "execution_count": 17,
   "id": "6056964e",
   "metadata": {
    "scrolled": true
   },
   "outputs": [
    {
     "name": "stdout",
     "output_type": "stream",
     "text": [
      "Epoch 1/50\n",
      "37/37 [==============================] - 1s 9ms/step - loss: 638.7548 - val_loss: 815.1404\n",
      "Epoch 2/50\n",
      "37/37 [==============================] - 0s 4ms/step - loss: 443.8806 - val_loss: 262.6920\n",
      "Epoch 3/50\n",
      "37/37 [==============================] - 0s 4ms/step - loss: 108.4835 - val_loss: 92.9330\n",
      "Epoch 4/50\n",
      "37/37 [==============================] - 0s 4ms/step - loss: 98.6876 - val_loss: 88.3073\n",
      "Epoch 5/50\n",
      "37/37 [==============================] - 0s 4ms/step - loss: 93.6740 - val_loss: 85.5906\n",
      "Epoch 6/50\n",
      "37/37 [==============================] - 0s 4ms/step - loss: 90.4158 - val_loss: 81.3507\n",
      "Epoch 7/50\n",
      "37/37 [==============================] - 0s 4ms/step - loss: 87.4488 - val_loss: 78.2018\n",
      "Epoch 8/50\n",
      "37/37 [==============================] - 0s 4ms/step - loss: 84.6532 - val_loss: 75.2081\n",
      "Epoch 9/50\n",
      "37/37 [==============================] - 0s 4ms/step - loss: 82.1075 - val_loss: 72.3352\n",
      "Epoch 10/50\n",
      "37/37 [==============================] - 0s 4ms/step - loss: 79.6519 - val_loss: 69.5513\n",
      "Epoch 11/50\n",
      "37/37 [==============================] - 0s 4ms/step - loss: 77.2550 - val_loss: 66.8329\n",
      "Epoch 12/50\n",
      "37/37 [==============================] - 0s 4ms/step - loss: 74.9044 - val_loss: 64.1520\n",
      "Epoch 13/50\n",
      "37/37 [==============================] - 0s 4ms/step - loss: 72.6046 - val_loss: 61.5592\n",
      "Epoch 14/50\n",
      "37/37 [==============================] - 0s 4ms/step - loss: 70.3082 - val_loss: 59.0204\n",
      "Epoch 15/50\n",
      "37/37 [==============================] - 0s 4ms/step - loss: 68.0414 - val_loss: 56.7859\n",
      "Epoch 16/50\n",
      "37/37 [==============================] - 0s 4ms/step - loss: 65.9253 - val_loss: 54.0854\n",
      "Epoch 17/50\n",
      "37/37 [==============================] - 0s 4ms/step - loss: 63.6936 - val_loss: 51.8158\n",
      "Epoch 18/50\n",
      "37/37 [==============================] - 0s 4ms/step - loss: 61.5354 - val_loss: 49.6575\n",
      "Epoch 19/50\n",
      "37/37 [==============================] - 0s 4ms/step - loss: 59.4354 - val_loss: 47.6254\n",
      "Epoch 20/50\n",
      "37/37 [==============================] - 0s 4ms/step - loss: 57.4097 - val_loss: 45.7024\n",
      "Epoch 21/50\n",
      "37/37 [==============================] - 0s 4ms/step - loss: 55.4603 - val_loss: 43.9544\n",
      "Epoch 22/50\n",
      "37/37 [==============================] - 0s 4ms/step - loss: 53.6102 - val_loss: 42.3340\n",
      "Epoch 23/50\n",
      "37/37 [==============================] - 0s 4ms/step - loss: 51.8682 - val_loss: 40.9394\n",
      "Epoch 24/50\n",
      "37/37 [==============================] - 0s 4ms/step - loss: 50.2415 - val_loss: 39.7114\n",
      "Epoch 25/50\n",
      "37/37 [==============================] - 0s 4ms/step - loss: 48.7683 - val_loss: 38.7218\n",
      "Epoch 26/50\n",
      "37/37 [==============================] - 0s 4ms/step - loss: 47.4427 - val_loss: 37.8311\n",
      "Epoch 27/50\n",
      "37/37 [==============================] - 0s 4ms/step - loss: 46.2683 - val_loss: 37.1458\n",
      "Epoch 28/50\n",
      "37/37 [==============================] - 0s 4ms/step - loss: 45.2335 - val_loss: 36.6595\n",
      "Epoch 29/50\n",
      "37/37 [==============================] - 0s 4ms/step - loss: 44.3470 - val_loss: 36.3263\n",
      "Epoch 30/50\n",
      "37/37 [==============================] - 0s 4ms/step - loss: 43.5774 - val_loss: 36.1187\n",
      "Epoch 31/50\n",
      "37/37 [==============================] - 0s 4ms/step - loss: 42.9363 - val_loss: 36.0292\n",
      "Epoch 32/50\n",
      "37/37 [==============================] - 0s 4ms/step - loss: 42.3976 - val_loss: 36.0344\n",
      "Epoch 33/50\n",
      "37/37 [==============================] - 0s 4ms/step - loss: 41.9615 - val_loss: 36.1030\n",
      "Epoch 34/50\n",
      "37/37 [==============================] - 0s 4ms/step - loss: 41.6225 - val_loss: 36.1828\n",
      "Epoch 35/50\n",
      "37/37 [==============================] - 0s 4ms/step - loss: 41.3431 - val_loss: 36.3680\n",
      "Epoch 36/50\n",
      "37/37 [==============================] - 0s 4ms/step - loss: 41.1341 - val_loss: 36.4892\n",
      "Epoch 37/50\n",
      "37/37 [==============================] - 0s 4ms/step - loss: 40.9689 - val_loss: 36.6529\n",
      "Epoch 38/50\n",
      "37/37 [==============================] - 0s 4ms/step - loss: 40.8443 - val_loss: 36.8010\n",
      "Epoch 39/50\n",
      "37/37 [==============================] - 0s 4ms/step - loss: 40.7349 - val_loss: 36.9637\n",
      "Epoch 40/50\n",
      "37/37 [==============================] - 0s 4ms/step - loss: 40.6429 - val_loss: 37.1301\n",
      "Epoch 41/50\n",
      "37/37 [==============================] - 0s 4ms/step - loss: 40.5807 - val_loss: 37.2660\n",
      "Epoch 42/50\n",
      "37/37 [==============================] - 0s 4ms/step - loss: 40.5392 - val_loss: 37.3931\n",
      "Epoch 43/50\n",
      "37/37 [==============================] - 0s 4ms/step - loss: 40.5113 - val_loss: 37.4503\n",
      "Epoch 44/50\n",
      "37/37 [==============================] - 0s 4ms/step - loss: 40.4890 - val_loss: 37.5708\n",
      "Epoch 45/50\n",
      "37/37 [==============================] - 0s 4ms/step - loss: 40.4666 - val_loss: 37.6603\n",
      "Epoch 46/50\n",
      "37/37 [==============================] - 0s 4ms/step - loss: 40.4503 - val_loss: 37.7432\n",
      "Epoch 47/50\n",
      "37/37 [==============================] - 0s 4ms/step - loss: 40.4352 - val_loss: 37.8188\n",
      "Epoch 48/50\n",
      "37/37 [==============================] - 0s 4ms/step - loss: 40.4217 - val_loss: 37.8907\n",
      "Epoch 49/50\n",
      "37/37 [==============================] - 0s 4ms/step - loss: 40.4094 - val_loss: 37.9425\n",
      "Epoch 50/50\n",
      "37/37 [==============================] - 0s 4ms/step - loss: 40.4044 - val_loss: 37.9454\n"
     ]
    }
   ],
   "source": [
    "history = model.fit(X_train, y_train, epochs=50, batch_size=32, validation_split=0.2, shuffle=False)"
   ]
  },
  {
   "cell_type": "code",
   "execution_count": 18,
   "id": "19c5804c",
   "metadata": {},
   "outputs": [
    {
     "data": {
      "image/png": "[encoded data removed]",
      "text/plain": [
       "<Figure size 640x480 with 1 Axes>"
      ]
     },
     "metadata": {},
     "output_type": "display_data"
    }
   ],
   "source": [
    "loss = history.history['loss']\n",
    "val_loss = history.history['val_loss']\n",
    "\n",
    "x = np.arange(0, len(history.history['loss']))\n",
    "\n",
    "plt.plot(x, loss, 'y', label='loss')\n",
    "plt.plot(x, val_loss, 'r', label='val loss')\n",
    "plt.title('Losses')\n",
    "plt.xlabel('epochs')\n",
    "plt.ylabel('loss')\n",
    "plt.legend()\n",
    "plt.show()"
   ]
  },
  {
   "cell_type": "code",
   "execution_count": 19,
   "id": "e4802fcc",
   "metadata": {},
   "outputs": [
    {
     "name": "stdout",
     "output_type": "stream",
     "text": [
      "4/4 [==============================] - 0s 3ms/step\n"
     ]
    }
   ],
   "source": [
    "y_pred = model.predict(X_test)\n"
   ]
  },
  {
   "cell_type": "code",
   "execution_count": 20,
   "id": "b4f0704d",
   "metadata": {},
   "outputs": [
    {
     "name": "stdout",
     "output_type": "stream",
     "text": [
      "Mean Squared Error (MSE): 35.6278551856968\n"
     ]
    }
   ],
   "source": [
    "from sklearn.metrics import mean_squared_error\n",
    "mse = mean_squared_error(y_test, y_pred)\n",
    "print(f\"Mean Squared Error (MSE): {mse}\")\n"
   ]
  },
  {
   "cell_type": "code",
   "execution_count": null,
   "id": "f5e76b64",
   "metadata": {},
   "outputs": [],
   "source": []
  }
 ],
 "metadata": {
  "kernelspec": {
   "display_name": "Python 3 (ipykernel)",
   "language": "python",
   "name": "python3"
  },
  "language_info": {
   "codemirror_mode": {
    "name": "ipython",
    "version": 3
   },
   "file_extension": ".py",
   "mimetype": "text/x-python",
   "name": "python",
   "nbconvert_exporter": "python",
   "pygments_lexer": "ipython3",
   "version": "3.9.13"
  }
 },
 "nbformat": 4,
 "nbformat_minor": 5
}
